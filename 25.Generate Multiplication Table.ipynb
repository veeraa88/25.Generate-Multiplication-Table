{
 "cells": [
  {
   "cell_type": "code",
   "execution_count": 5,
   "id": "f4f7afec-a8b5-40ba-bf04-ab16beca6d34",
   "metadata": {},
   "outputs": [
    {
     "name": "stdin",
     "output_type": "stream",
     "text": [
      "Enter your multiplication table no: 16\n"
     ]
    },
    {
     "name": "stdout",
     "output_type": "stream",
     "text": [
      "1 x 16 = 16\n",
      "2 x 16 = 32\n",
      "3 x 16 = 48\n",
      "4 x 16 = 64\n",
      "5 x 16 = 80\n",
      "6 x 16 = 96\n",
      "7 x 16 = 112\n",
      "8 x 16 = 128\n",
      "9 x 16 = 144\n",
      "10 x 16 = 160\n",
      "11 x 16 = 176\n",
      "12 x 16 = 192\n",
      "13 x 16 = 208\n",
      "14 x 16 = 224\n",
      "15 x 16 = 240\n",
      "16 x 16 = 256\n",
      "17 x 16 = 272\n",
      "18 x 16 = 288\n",
      "19 x 16 = 304\n",
      "20 x 16 = 320\n"
     ]
    }
   ],
   "source": [
    "k=int(input(\"Enter your multiplication table no:\"))\n",
    "for i in range(1,20+1):\n",
    "    print(f\"{i} x {k} = {i*k}\")"
   ]
  },
  {
   "cell_type": "code",
   "execution_count": null,
   "id": "55f9ebb8-b98d-4bf2-8c86-3923a1a2cdfe",
   "metadata": {},
   "outputs": [],
   "source": []
  }
 ],
 "metadata": {
  "kernelspec": {
   "display_name": "Python [conda env:base] *",
   "language": "python",
   "name": "conda-base-py"
  },
  "language_info": {
   "codemirror_mode": {
    "name": "ipython",
    "version": 3
   },
   "file_extension": ".py",
   "mimetype": "text/x-python",
   "name": "python",
   "nbconvert_exporter": "python",
   "pygments_lexer": "ipython3",
   "version": "3.12.7"
  }
 },
 "nbformat": 4,
 "nbformat_minor": 5
}
